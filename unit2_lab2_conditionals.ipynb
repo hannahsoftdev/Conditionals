{
  "nbformat": 4,
  "nbformat_minor": 0,
  "metadata": {
    "colab": {
      "provenance": []
    },
    "kernelspec": {
      "name": "python3",
      "display_name": "Python 3"
    },
    "language_info": {
      "name": "python"
    }
  },
  "cells": [
    {
      "cell_type": "markdown",
      "source": [
        "**2. Integer comparison**"
      ],
      "metadata": {
        "id": "O44PyirMtWDd"
      }
    },
    {
      "cell_type": "code",
      "execution_count": null,
      "metadata": {
        "id": "JICEwm2WtHJQ"
      },
      "outputs": [],
      "source": [
        "\"\"\"\n",
        "Integer comparison;\n",
        "User must enter two numbers\n",
        "Program determines whether numbers entered are greater than, less than, or equal\n",
        "Program prints results\n",
        "\"\"\"\n",
        "\n",
        "n1=int(input(\"Enter the first number\"))\n",
        "n2=int(input(\"Enter the second number\"))\n",
        "\n",
        "if (n1 > n2):\n",
        "  print(n1, \"is larger than\", n2)\n",
        "elif (n1 < n2):\n",
        "  print(n2, \"is larger than\", n1)\n",
        "else:\n",
        "  print(\"These numbers are equal.\")"
      ]
    },
    {
      "cell_type": "markdown",
      "source": [
        "**4. Simple Calculator**"
      ],
      "metadata": {
        "id": "GeaklLGewWFK"
      }
    },
    {
      "cell_type": "code",
      "source": [
        "\"\"\"\n",
        "Simple calculator;\n",
        "Program is to give result based on operation and numbers entered\n",
        "Program ask user to pick operator\n",
        "User enters two numbers\n",
        "Program determines operation entered and execute using entered numbers\n",
        "Program prints result\n",
        "\"\"\"\n",
        "\n",
        "operation = input(\"Pick an operator: + - * /\")\n",
        "n1=float(input(\"Enter the first number\"))\n",
        "n2=float(input(\"Enter the second number\"))\n",
        "\n",
        "if operation == \"+\":\n",
        "  print(n1 + n2)\n",
        "elif operation == \"-\":\n",
        "  print(n1 - n2)\n",
        "elif operation == \"*\":\n",
        "  print(n1 * n2)\n",
        "elif operation == \"/\":\n",
        "  print(n1 / n2)\n",
        "else:\n",
        "  print(\"ERROR:INVALID\")"
      ],
      "metadata": {
        "id": "yTm5Ad4S2s-U"
      },
      "execution_count": null,
      "outputs": []
    },
    {
      "cell_type": "markdown",
      "source": [
        "**4. Multiples**"
      ],
      "metadata": {
        "id": "6y7zFPFA5ZTH"
      }
    },
    {
      "cell_type": "code",
      "source": [
        "\"\"\"\n",
        "Multiples;\n",
        "Program ask user to enter two integers\n",
        "Program determines whether intergers are multiples\n",
        "Program divides both intergers and if result == 0 it is a multiple\n",
        "Program prints results (\"is/is not a multiple\")\n",
        "\"\"\"\n",
        "\n",
        "n1=int(input(\"Enter the first integer\"))\n",
        "n2=int(input(\"Enter the second interger\"))\n",
        "\n",
        "if (n1 % n2 == 0):\n",
        "  print(n2, \"is a multiple of\", n1)\n",
        "else:\n",
        "  print(n2, \"is not a multiple of\", n1)"
      ],
      "metadata": {
        "id": "XSdMvZek5iQT"
      },
      "execution_count": null,
      "outputs": []
    }
  ]
}